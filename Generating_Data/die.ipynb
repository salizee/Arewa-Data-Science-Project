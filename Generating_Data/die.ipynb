{
 "cells": [
  {
   "cell_type": "markdown",
   "metadata": {},
   "source": [
    "### Rolling Dice with Plotly\n",
    "Installing Plotly\n",
    "Install Plotly using pip, just as you did for Matplotlib:"
   ]
  },
  {
   "cell_type": "markdown",
   "metadata": {},
   "source": [
    "#### Creating the Die Class"
   ]
  },
  {
   "cell_type": "code",
   "execution_count": null,
   "metadata": {},
   "outputs": [],
   "source": [
    "%pip install plotly\n",
    "%pip install pandas\n",
    "from random import randint\n",
    "\n",
    "class Die:\n",
    "    \"\"\"A class representing a single die.\"\"\"\n",
    "    \n",
    "    def __init__(self, num_sides=6):\n",
    "        \"\"\"Assume a six-sided die.\"\"\"\n",
    "        self.num_sides = num_sides\n",
    "\n",
    "    def roll(self):\n",
    "        \"\"\"Return a random value between 1 and number of sides.\"\"\"\n",
    "        return randint(1, self.num_sides)"
   ]
  },
  {
   "cell_type": "markdown",
   "metadata": {},
   "source": [
    "#### Rolling the Die"
   ]
  },
  {
   "cell_type": "code",
   "execution_count": null,
   "metadata": {},
   "outputs": [],
   "source": [
    "# Create a D6.\n",
    "import pandas as pd\n",
    "die = Die()\n",
    "\n",
    "# Make some rolls, and store results in a list.\n",
    "results = []\n",
    "for roll_num in range(100):\n",
    "    result = die.roll()\n",
    "    results.append(result)\n",
    "\n",
    "print(results)"
   ]
  },
  {
   "cell_type": "markdown",
   "metadata": {},
   "source": [
    "#### Analyzing the Results"
   ]
  },
  {
   "cell_type": "code",
   "execution_count": null,
   "metadata": {},
   "outputs": [],
   "source": [
    "# Analyze the results.\n",
    "frequencies = []\n",
    "poss_results = range(1, die.num_sides+1)\n",
    "for value in poss_results:\n",
    "    frequency = results.count(value)\n",
    "    frequencies.append(frequency)\n",
    "print(frequencies)"
   ]
  },
  {
   "cell_type": "markdown",
   "metadata": {},
   "source": [
    "#### Making a Histogram"
   ]
  },
  {
   "cell_type": "code",
   "execution_count": null,
   "metadata": {},
   "outputs": [],
   "source": [
    "import plotly.express as px\n",
    "\n",
    "# Visualize the results.\n",
    "fig = px.bar(x=poss_results, y=frequencies)\n",
    "fig.show()"
   ]
  },
  {
   "cell_type": "markdown",
   "metadata": {},
   "source": [
    "#### Customizing the Plot"
   ]
  },
  {
   "cell_type": "code",
   "execution_count": null,
   "metadata": {},
   "outputs": [],
   "source": [
    "import numpy as np\n",
    "import pandas as pd\n",
    "import plotly.express as px\n",
    "\n",
    "# Simulate rolling a D6 (6-sided die) 1,000 times\n",
    "rolls = np.random.randint(1, 7, size=1000)\n",
    "\n",
    "# Calculate frequencies of each die result\n",
    "result_counts = pd.Series(rolls).value_counts().sort_index()\n",
    "\n",
    "# Data for plotting\n",
    "poss_results = result_counts.index\n",
    "frequencies = result_counts.values\n",
    "\n",
    "# Create the bar chart\n",
    "title = \"Results of Rolling One D6 1,000 Times\"\n",
    "labels = {'x': 'Result', 'y': 'Frequency of Result'}\n",
    "fig = px.bar(x=poss_results, y=frequencies, title=title, labels=labels)\n",
    "\n",
    "# Show the plot\n",
    "fig.show()"
   ]
  },
  {
   "cell_type": "markdown",
   "metadata": {},
   "source": [
    "#### Rolling Two Dice"
   ]
  },
  {
   "cell_type": "code",
   "execution_count": null,
   "metadata": {},
   "outputs": [],
   "source": [
    "import plotly.express as px\n",
    "\n",
    "# Create two D6 dice.\n",
    "die_1 = Die()\n",
    "die_2 = Die()\n",
    "\n",
    "# Make some rolls, and store results in a list.\n",
    "results = []\n",
    "for roll_num in range(1000):\n",
    "    result = die_1.roll() + die_2.roll()\n",
    "    results.append(result)\n",
    "\n",
    "# Analyze the results.\n",
    "frequencies = []\n",
    "max_result = die_1.num_sides + die_2.num_sides\n",
    "poss_results = range(2, max_result+1)\n",
    "for value in poss_results:\n",
    "    frequency = results.count(value)\n",
    "    frequencies.append(frequency)\n",
    "    # Visualize the results.\n",
    "title = \"Results of Rolling Two D6 Dice 1,000 Times\"\n",
    "labels = {'x': 'Result', 'y': 'Frequency of Result'}\n",
    "fig = px.bar(x=poss_results, y=frequencies, title=title, labels=labels)\n",
    "fig.show()"
   ]
  },
  {
   "cell_type": "markdown",
   "metadata": {},
   "source": [
    "#### Further Customizations"
   ]
  },
  {
   "cell_type": "code",
   "execution_count": null,
   "metadata": {},
   "outputs": [],
   "source": [
    "fig = px.bar(x=poss_results, y=frequencies, title=title, labels=labels)\n",
    "# Further customize chart.\n",
    "fig.update_layout(xaxis_dtick=1)\n",
    "fig.show()"
   ]
  },
  {
   "cell_type": "markdown",
   "metadata": {},
   "source": [
    "#### Rolling Dice of Different Sizes"
   ]
  },
  {
   "cell_type": "code",
   "execution_count": 11,
   "metadata": {},
   "outputs": [],
   "source": [
    "import plotly.express as px\n",
    "\n",
    "# Create a D6 and a D10.\n",
    "die_1 = Die()\n",
    "die_2 = Die(10)\n",
    "\n",
    "# Make some rolls, and store results in a list.\n",
    "results = []\n",
    "for roll_num in range(50_000):\n",
    "    result = die_1.roll() + die_2.roll()\n",
    "    results.append(result)\n",
    "\n",
    "# Analyze the results.\n",
    "# Visualize the results.\n",
    "title = \"Results of Rolling a D6 and a D10 50,000 Times\"\n",
    "labels = {'x': 'Result', 'y': 'Frequency of Result'}"
   ]
  },
  {
   "cell_type": "markdown",
   "metadata": {},
   "source": [
    "#### Saving Figures"
   ]
  },
  {
   "cell_type": "code",
   "execution_count": 12,
   "metadata": {},
   "outputs": [],
   "source": [
    "fig.write_html('dice_visual_d6d10.html')"
   ]
  },
  {
   "cell_type": "markdown",
   "metadata": {},
   "source": []
  }
 ],
 "metadata": {
  "kernelspec": {
   "display_name": "base",
   "language": "python",
   "name": "python3"
  },
  "language_info": {
   "codemirror_mode": {
    "name": "ipython",
    "version": 3
   },
   "file_extension": ".py",
   "mimetype": "text/x-python",
   "name": "python",
   "nbconvert_exporter": "python",
   "pygments_lexer": "ipython3",
   "version": "3.12.3"
  }
 },
 "nbformat": 4,
 "nbformat_minor": 2
}
